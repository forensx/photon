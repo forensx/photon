{
 "cells": [
  {
   "cell_type": "code",
   "execution_count": 1,
   "metadata": {},
   "outputs": [],
   "source": [
    "import netCDF4\n",
    "import pandas as pd\n",
    "import numpy as np\n",
    "from sklearn.preprocessing import normalize"
   ]
  },
  {
   "cell_type": "code",
   "execution_count": 2,
   "metadata": {},
   "outputs": [],
   "source": [
    "nc_file_1 = \"VNP02DNB_NRT.A2020143.0100.001.nc\"\n",
    "nc_file_2 = \"VNP03DNB_NRT.A2020143.0100.001.nc\""
   ]
  },
  {
   "cell_type": "code",
   "execution_count": 3,
   "metadata": {},
   "outputs": [],
   "source": [
    "nc1 = netCDF4.Dataset(nc_file_1, mode='r')\n",
    "nc2 = netCDF4.Dataset(nc_file_2, mode='r')"
   ]
  },
  {
   "cell_type": "code",
   "execution_count": 4,
   "metadata": {},
   "outputs": [
    {
     "data": {
      "text/plain": [
       "dict_keys([])"
      ]
     },
     "execution_count": 4,
     "metadata": {},
     "output_type": "execute_result"
    }
   ],
   "source": [
    "nc1.variables.keys()"
   ]
  },
  {
   "cell_type": "code",
   "execution_count": 5,
   "metadata": {},
   "outputs": [
    {
     "data": {
      "text/plain": [
       "dict_keys([])"
      ]
     },
     "execution_count": 5,
     "metadata": {},
     "output_type": "execute_result"
    }
   ],
   "source": [
    "nc2.variables.keys()"
   ]
  },
  {
   "cell_type": "code",
   "execution_count": 6,
   "metadata": {},
   "outputs": [
    {
     "data": {
      "text/plain": [
       "{}"
      ]
     },
     "execution_count": 6,
     "metadata": {},
     "output_type": "execute_result"
    }
   ],
   "source": [
    "nc2.variables"
   ]
  },
  {
   "cell_type": "code",
   "execution_count": 7,
   "metadata": {},
   "outputs": [
    {
     "data": {
      "text/plain": [
       "<class 'netCDF4._netCDF4.Dataset'>\n",
       "root group (NETCDF4 data model, file format HDF5):\n",
       "    title: VIIRS DNB Geolocation Data\n",
       "    instrument: VIIRS\n",
       "    product_name: VNP03DNB_NRT.A2020143.0100.001.2020143040112.nc\n",
       "    LocalGranuleID: VNP03DNB_NRT.A2020143.0100.001.2020143040112.nc\n",
       "    processing_version: v2.0.3\n",
       "    Conventions: CF-1.6\n",
       "    institution: NASA Goddard Space Flight Center, VIIRS L1 Processing Group\n",
       "    license: http://science.nasa.gov/earth-science/earth-science-data/data-information-policy/\n",
       "    naming_authority: gov.nasa.gsfc.VIIRSland\n",
       "    date_created: 2020-05-22T12:01:12Z\n",
       "    ProductionTime: 2020-05-22T12:01:12Z\n",
       "    keywords_vocabulary: NASA Global Change Master Directory (GCMD) Science Keywords\n",
       "    stdname_vocabulary: NetCDF Climate and Forecast (CF) Metadata Convention\n",
       "    creator_name: VIIRS L1 Processing Group\n",
       "    creator_email: modis-ops@lists.nasa.gov\n",
       "    creator_url: http://ladsweb.nascom.nasa.gov\n",
       "    project: VIIRS L1 Project\n",
       "    publisher_name: LAADS\n",
       "    publisher_url: http://ladsweb.nascom.nasa.gov\n",
       "    publisher_email: modis-ops@lists.nasa.gov\n",
       "    processing_level: GEO\n",
       "    cdm_data_type: swath\n",
       "    number_of_filled_scans: 202\n",
       "    OrbitNumber: 44388\n",
       "    history: geolocate_viirs.exe PGE501.1.AS5001.NPP_OPS.2020-143T01:00.NA.2020-143T03:59:23.49310285.pcf\n",
       "    source: VNP01_NRT.A2020143.0100.001.2020143035559.nc,VIIRS_NPP_CAL_STATIC_LUT_v2.0.0.39_20200407_vcst.nc,VIIRS_NPP_CAL_RSB_DYNAMIC_LUT_20120103_20200627_v2.0.0.39_20200407_vcst.nc,VIIRS_NPP_CAL_DNB_DYNAMIC_LUT_20120121_20200627_v2.0.0.39_20200407_vcst.nc,VIIRS_NPP_CAL_STRAYLIGHT_DYNAMIC_LUT_20120123_20200621_v2.0.0.39_20200407_vcst.nc,VIIRS_NPP_CMN_LUT_v2.0.0.39_20200407_vcst.nc,VIIRS_NPP_GEO_LUT_20200321110000_vcst.nc,off_USNO-PolarWander-UT1-ANC_Ser7_USNO_000f_20200522_202005220000Z_20200522000101Z_ee20200529120000Z_np.ascii\n",
       "    time_coverage_start: 2020-05-22T01:00:00.000Z\n",
       "    TAI93_leapseconds: 10\n",
       "    time_coverage_end: 2020-05-22T01:06:00.000Z\n",
       "    PGE_StartTime: 2020-05-22 01:00:00.000\n",
       "    PGE_EndTime: 2020-05-22 01:06:00.000\n",
       "    StartTime: 2020-05-22 01:00:00.000\n",
       "    EndTime: 2020-05-22 01:06:00.000\n",
       "    PGE_Name: PGE501\n",
       "    VersionId: 001\n",
       "    startDirection: Ascending\n",
       "    endDirection: Ascending\n",
       "    DayNightFlag: Day\n",
       "    format_version: 2\n",
       "    instrument_number: 2\n",
       "    GRingPointSequenceNo: [1 2 3 4]\n",
       "    PGEVersion: 2.0.9\n",
       "    GRingPointLatitude: [66.999054 83.082825 64.26721  55.977493]\n",
       "    GRingPointLongitude: [ 105.90324 -124.76408 -159.67944  144.9688 ]\n",
       "    geospatial_lat_units: degrees_north\n",
       "    geospatial_lon_units: degrees_east\n",
       "    geospatial_lat_min: 55.977493\n",
       "    geospatial_lat_max: 85.52796\n",
       "    geospatial_lon_min: 105.90324\n",
       "    geospatial_lon_max: -124.76408\n",
       "    SouthBoundingCoordinate: 55.977493\n",
       "    NorthBoundingCoordinate: 85.52796\n",
       "    WestBoundingCoordinate: 105.90324\n",
       "    EastBoundingCoordinate: -124.76408\n",
       "    identifier_product_doi: 10.5067/VIIRS/VNP03DNB_NRT.001\n",
       "    RangeBeginningDate: 2020-05-22\n",
       "    RangeEndingDate: 2020-05-22\n",
       "    InputPointer: VNP01_NRT.A2020143.0100.001.2020143035559.nc,TLE-AUX_npp_20200522021704Z_20200521213856Z_ee00000000000000Z_-_c3s-_ops_all-_ops.txt,off_USNO-PolarWander-UT1-ANC_Ser7_USNO_000f_20200522_202005220000Z_20200522000101Z_ee20200529120000Z_np.ascii,VIIRS_NPP_CAL_STATIC_LUT_v2.0.0.39_20200407_vcst.nc,VIIRS_NPP_CMN_LUT_v2.0.0.39_20200407_vcst.nc,VIIRS_NPP_GEO_LUT_20200321110000_vcst.nc\n",
       "    SatelliteInstrument: NPP_OPS\n",
       "    identifier_product_doi_authority: http://dx.doi.org\n",
       "    RangeEndingTime: 01:06:00.000000\n",
       "    ProcessingCenter: MODAPS-NASA\n",
       "    ProcessingEnvironment: Linux nrt3min119 3.10.0-1062.12.1.el7.x86_64 #1 SMP Tue Feb 4 23:02:59 UTC 2020 x86_64 x86_64 x86_64 GNU/Linux\n",
       "    RangeBeginningTime: 01:00:00.000000\n",
       "    AlgorithmType: SCI\n",
       "    AlgorithmVersion: NPP_PR03_L1WG v2.0.3\n",
       "    ShortName: VNP03DNB_NRT\n",
       "    platform: Suomi-NPP\n",
       "    LongName: VIIRS/NPP Day/Night Band Resolution Terrain Corrected Geolocation 6-Min L1 Swath IP 750m NRT\n",
       "    dimensions(sizes): number_of_scans(202), number_of_lines(3232), number_of_pixels(4064), vector_elements(3), quaternion_elements(4)\n",
       "    variables(dimensions): \n",
       "    groups: scan_line_attributes, geolocation_data, navigation_data"
      ]
     },
     "execution_count": 7,
     "metadata": {},
     "output_type": "execute_result"
    }
   ],
   "source": [
    "nc2"
   ]
  },
  {
   "cell_type": "code",
   "execution_count": 8,
   "metadata": {},
   "outputs": [
    {
     "data": {
      "text/plain": [
       "<class 'netCDF4._netCDF4.Dataset'>\n",
       "root group (NETCDF4 data model, file format HDF5):\n",
       "    title: VIIRS Day/Night Band Data\n",
       "    platform: Suomi-NPP\n",
       "    instrument: VIIRS\n",
       "    product_name: VNP02DNB_NRT.A2020143.0100.001.2020143041355.nc\n",
       "    LocalGranuleID: VNP02DNB_NRT.A2020143.0100.001.2020143041355.nc\n",
       "    processing_version: v2.0.3\n",
       "    Conventions: CF-1.6\n",
       "    institution: NASA Goddard Space Flight Center, VIIRS L1 Processing Group\n",
       "    license: http://science.nasa.gov/earth-science/earth-science-data/data-information-policy/\n",
       "    naming_authority: gov.nasa.gsfc.VIIRSland\n",
       "    date_created: 2020-05-22T12:13:56Z\n",
       "    ProductionTime: 2020-05-22T12:13:56Z\n",
       "    keywords_vocabulary: NASA Global Change Master Directory (GCMD) Science Keywords\n",
       "    stdname_vocabulary: NetCDF Climate and Forecast (CF) Metadata Convention\n",
       "    creator_name: VIIRS L1 Processing Group\n",
       "    creator_email: modis-ops@lists.nasa.gov\n",
       "    creator_url: http://ladsweb.nascom.nasa.gov\n",
       "    project: VIIRS L1 Project\n",
       "    publisher_name: LAADS\n",
       "    publisher_url: http://ladsweb.nascom.nasa.gov\n",
       "    publisher_email: modis-ops@lists.nasa.gov\n",
       "    processing_level: L1B\n",
       "    cdm_data_type: swath\n",
       "    orbit_number: 44388\n",
       "    history: LSIPS_calibrate_viirs.exe PGE502.1.AS5001.NPP_OPS.2020-143T01:00.NA.2020-143T04:13:26.49310535.pcf diagnostics\n",
       "    source: VNP01_NRT.A2020143.0100.001.2020143035559.nc,VNP01_NRT.A2020143.0054.001.2020143015412.nc,VNP01_NRT.A2020143.0106.001.2020143035100.nc,VIIRS_NPP_CAL_STATIC_LUT_v2.0.0.39_20200407_vcst.nc,VIIRS_NPP_CAL_RSB_DYNAMIC_LUT_20120103_20200627_v2.0.0.39_20200407_vcst.nc,VIIRS_NPP_CAL_DNB_DYNAMIC_LUT_20120121_20200627_v2.0.0.39_20200407_vcst.nc,VIIRS_NPP_CAL_STRAYLIGHT_DYNAMIC_LUT_20120123_20200621_v2.0.0.39_20200407_vcst.nc,VIIRS_NPP_CMN_LUT_v2.0.0.39_20200407_vcst.nc,VIIRS_NPP_GEO_LUT_20130425152500_vcst.nc,off_USNO-PolarWander-UT1-ANC_Ser7_USNO_000f_20200522_202005220000Z_20200522000101Z_ee20200529120000Z_np.ascii\n",
       "    time_coverage_start: 2020-05-22T01:00:00.000Z\n",
       "    time_coverage_end: 2020-05-22T01:06:00.000Z\n",
       "    PGE_StartTime: 2020-05-22 01:00:00.000\n",
       "    PGE_EndTime: 2020-05-22 01:06:00.000\n",
       "    StartTime: 2020-05-22 01:00:00.000\n",
       "    EndTime: 2020-05-22 01:06:00.000\n",
       "    PGE_Name: PGE502\n",
       "    VersionId: 001\n",
       "    startDirection: Ascending\n",
       "    endDirection: Ascending\n",
       "    DayNightFlag: Day\n",
       "    format_version: 2\n",
       "    instrument_number: 2\n",
       "    number_of_filled_scans: 202\n",
       "    identifier_product_doi: 10.5067/VIIRS/VNP02DNB_NRT.001\n",
       "    identifier_product_doi_authority: http://dx.doi.org\n",
       "    GRingPointLatitude: [66.9991 83.0828 64.2672 55.9775]\n",
       "    GRingPointLongitude: [ 105.903 -124.764 -159.679  144.969]\n",
       "    GRingPointSequenceNo: [1 2 3 4]\n",
       "    SouthBoundingCoordinate: 55.977493\n",
       "    NorthBoundingCoordinate: 85.52796\n",
       "    EastBoundingCoordinate: -124.76408\n",
       "    WestBoundingCoordinate: 105.90324\n",
       "    InputPointer: VNP01_NRT.A2020143.0100.001.2020143035559.nc,VNP01_NRT.A2020143.0054.001.2020143015412.nc,VNP01_NRT.A2020143.0106.001.2020143035100.nc,off_USNO-PolarWander-UT1-ANC_Ser7_USNO_000f_20200522_202005220000Z_20200522000101Z_ee20200529120000Z_np.ascii,VIIRS_NPP_CAL_STATIC_LUT_v2.0.0.39_20200407_vcst.nc,VIIRS_NPP_CMN_LUT_v2.0.0.39_20200407_vcst.nc,VIIRS_NPP_GEO_LUT_20130425152500_vcst.nc,VIIRS_NPP_CAL_RSB_DYNAMIC_LUT_20120103_20200627_v2.0.0.39_20200407_vcst.nc,VIIRS_NPP_CAL_DNB_DYNAMIC_LUT_20120121_20200627_v2.0.0.39_20200407_vcst.nc,VIIRS_NPP_CAL_STRAYLIGHT_DYNAMIC_LUT_20120123_20200621_v2.0.0.39_20200407_vcst.nc\n",
       "    RangeEndingTime: 01:06:00.000000\n",
       "    ProcessingEnvironment: Linux nrt3min106 3.10.0-1062.12.1.el7.x86_64 #1 SMP Tue Feb 4 23:02:59 UTC 2020 x86_64 x86_64 x86_64 GNU/Linux\n",
       "    RangeEndingDate: 2020-05-22\n",
       "    AlgorithmVersion: NPP_PR02 v2.0.3\n",
       "    RangeBeginningTime: 01:00:00.000000\n",
       "    ProcessingCenter: MODAPS-NASA\n",
       "    AlgorithmType: SCI\n",
       "    SatelliteInstrument: NPP_OPS\n",
       "    RangeBeginningDate: 2020-05-22\n",
       "    LongName: VIIRS/NPP Day/Night Band 6-Min L1B Swath 750m NRT\n",
       "    ShortName: VNP02DNB_NRT\n",
       "    dimensions(sizes): number_of_scans(202), number_of_lines(3232), number_of_pixels(4064)\n",
       "    variables(dimensions): \n",
       "    groups: scan_line_attributes, observation_data"
      ]
     },
     "execution_count": 8,
     "metadata": {},
     "output_type": "execute_result"
    }
   ],
   "source": [
    "nc1"
   ]
  },
  {
   "cell_type": "code",
   "execution_count": null,
   "metadata": {},
   "outputs": [],
   "source": []
  }
 ],
 "metadata": {
  "kernelspec": {
   "display_name": "Python 3",
   "language": "python",
   "name": "python3"
  },
  "language_info": {
   "codemirror_mode": {
    "name": "ipython",
    "version": 3
   },
   "file_extension": ".py",
   "mimetype": "text/x-python",
   "name": "python",
   "nbconvert_exporter": "python",
   "pygments_lexer": "ipython3",
   "version": "3.7.6"
  }
 },
 "nbformat": 4,
 "nbformat_minor": 4
}
