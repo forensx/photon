{
 "cells": [
  {
   "cell_type": "code",
   "execution_count": 12,
   "metadata": {},
   "outputs": [],
   "source": [
    "import pandas as pd\n",
    "import numpy as np\n",
    "from sklearn.preprocessing import normalize\n",
    "from netCDF4 import Dataset\n",
    "import matplotlib.pyplot as plt\n",
    "import cartopy.crs as ccrs\n",
    "import h5py\n",
    "from PIL import Image\n",
    "import os\n",
    "import datetime as dt\n",
    "import re"
   ]
  },
  {
   "cell_type": "code",
   "execution_count": 6,
   "metadata": {},
   "outputs": [],
   "source": [
    "def split(str, num):\n",
    "    return [ str[start:start+num] for start in range(0, len(str), num) ]"
   ]
  },
  {
   "cell_type": "code",
   "execution_count": 27,
   "metadata": {},
   "outputs": [
    {
     "name": "stderr",
     "output_type": "stream",
     "text": [
      "<ipython-input-27-9ce5f6d9fbb1>:6: H5pyDeprecationWarning: dataset.value has been deprecated. Use dataset[()] instead.\n",
      "  fileMetadata = f['HDFEOS INFORMATION']['StructMetadata.0'].value.split() # Read file metadata\n"
     ]
    }
   ],
   "source": [
    "for inFile in os.listdir(\"./Data\"):\n",
    "    f = h5py.File(\"./Data/\" + inFile,\"r\")\n",
    "    outName = inFile.rsplit('.', 1)[0]                      # Parse out the file extension, keep file nameoutName\n",
    "    noext = outName[-13:]\n",
    "    dt = dt.strptime(noext, \"%Y%j%H%M%S\")\n",
    "    fileMetadata = f['HDFEOS INFORMATION']['StructMetadata.0'].value.split() # Read file metadata\n",
    "    fileMetadata = [m.decode('utf-8') for m in fileMetadata]                 # Clean up file metadata\n",
    "    grids = list(f['HDFEOS']['GRIDS']) # List contents of GRIDS directory\n",
    "    h5_objs = []            # Create empty list\n",
    "    f.visit(h5_objs.append) # Walk through directory tree, retrieve objects and append to list\n",
    "    # Search for SDS with 1km or 500m grid\n",
    "    all_datasets = [obj for grid in grids for obj in h5_objs if isinstance(f[obj],h5py.Dataset) and grid in obj] \n",
    "    lum = f[[a for a in all_datasets if 'DNB_At' in a][0]]\n",
    "    scaleFactor = lum.attrs['scale_factor'][0]\n",
    "    fillValue = lum.attrs['_FillValue'][0]"
   ]
  },
  {
   "cell_type": "code",
   "execution_count": null,
   "metadata": {},
   "outputs": [],
   "source": [
    "f = h5py.File(\"VNP46A1.A2020149.h11v06.001.2020150062723.h5\", \"r\")\n",
    "list(f.keys())"
   ]
  },
  {
   "cell_type": "code",
   "execution_count": null,
   "metadata": {},
   "outputs": [],
   "source": [
    "m10 = f['HDFEOS'][\"GRIDS\"][\"VNP_Grid_DNB\"][\"Data Fields\"][\"Radiance_M10\"]\n",
    "m11 = f['HDFEOS'][\"GRIDS\"][\"VNP_Grid_DNB\"][\"Data Fields\"][\"Radiance_M11\"]\n",
    "DNB = f['HDFEOS'][\"GRIDS\"][\"VNP_Grid_DNB\"][\"Data Fields\"][\"DNB_At_Sensor_Radiance_500m\"]"
   ]
  },
  {
   "cell_type": "code",
   "execution_count": null,
   "metadata": {},
   "outputs": [],
   "source": [
    "DNB.shape"
   ]
  },
  {
   "cell_type": "code",
   "execution_count": null,
   "metadata": {},
   "outputs": [],
   "source": [
    "DNB.dtype"
   ]
  },
  {
   "cell_type": "code",
   "execution_count": null,
   "metadata": {},
   "outputs": [],
   "source": [
    "m10[0,0]"
   ]
  },
  {
   "cell_type": "code",
   "execution_count": null,
   "metadata": {},
   "outputs": [],
   "source": [
    "m11[0,0]"
   ]
  },
  {
   "cell_type": "code",
   "execution_count": null,
   "metadata": {},
   "outputs": [],
   "source": [
    "f['HDFEOS INFORMATION'].keys()"
   ]
  },
  {
   "cell_type": "code",
   "execution_count": null,
   "metadata": {},
   "outputs": [],
   "source": [
    "metadata = f['HDFEOS INFORMATION']['StructMetadata.0']"
   ]
  },
  {
   "cell_type": "code",
   "execution_count": null,
   "metadata": {},
   "outputs": [],
   "source": [
    "metadata = metadata.value.split()"
   ]
  },
  {
   "cell_type": "code",
   "execution_count": null,
   "metadata": {},
   "outputs": [],
   "source": [
    "fileMetadata = [m.decode('utf-8') for m in metadata]"
   ]
  },
  {
   "cell_type": "code",
   "execution_count": null,
   "metadata": {},
   "outputs": [],
   "source": [
    "ulc = [i for i in fileMetadata if 'UpperLeftPointMtrs' in i][0]    # Search file metadata for the upper left corner of the file\n",
    "ulcLon = float(ulc.split('=(')[-1].replace(')', '').split(',')[0]) # Parse metadata string for upper left corner lon value\n",
    "ulcLat = float(ulc.split('=(')[-1].replace(')', '').split(',')[1]) # Parse metadata string for upper left corner lat value"
   ]
  },
  {
   "cell_type": "code",
   "execution_count": null,
   "metadata": {},
   "outputs": [],
   "source": [
    "print(ulcLat,ulcLon)"
   ]
  },
  {
   "cell_type": "code",
   "execution_count": null,
   "metadata": {},
   "outputs": [],
   "source": [
    "mat = np.reshape(DNB,(2400,2400))"
   ]
  },
  {
   "cell_type": "code",
   "execution_count": null,
   "metadata": {},
   "outputs": [],
   "source": [
    "mat[mat => 255] = 0"
   ]
  },
  {
   "cell_type": "code",
   "execution_count": null,
   "metadata": {},
   "outputs": [],
   "source": [
    "mat.max()"
   ]
  },
  {
   "cell_type": "code",
   "execution_count": null,
   "metadata": {},
   "outputs": [],
   "source": [
    "np.where(mat == 131 )"
   ]
  },
  {
   "cell_type": "code",
   "execution_count": null,
   "metadata": {},
   "outputs": [],
   "source": [
    "mat[mat == -1] = mat.max()"
   ]
  },
  {
   "cell_type": "code",
   "execution_count": null,
   "metadata": {},
   "outputs": [],
   "source": [
    "mat_norm"
   ]
  },
  {
   "cell_type": "code",
   "execution_count": null,
   "metadata": {},
   "outputs": [],
   "source": [
    "mat_norm = (mat - mat.min()) / (mat.max() - mat.min())"
   ]
  },
  {
   "cell_type": "code",
   "execution_count": null,
   "metadata": {},
   "outputs": [],
   "source": [
    "img = Image.fromarray(np.uint8(mat) , 'L')"
   ]
  },
  {
   "cell_type": "code",
   "execution_count": null,
   "metadata": {},
   "outputs": [],
   "source": [
    "img.save(\"nice.jpg\",\"JPEG\")"
   ]
  },
  {
   "cell_type": "code",
   "execution_count": null,
   "metadata": {},
   "outputs": [],
   "source": [
    "array = np.linspace(0,1,256*256)\n",
    "\n",
    "# reshape to 2d\n",
    "mat = np.reshape(array,(256,256))\n",
    "\n",
    "# Creates PIL image\n",
    "img = Image.fromarray(np.uint8(mat * 255) , 'L')\n",
    "img.save(\"nice.jpg\",\"JPEG\")"
   ]
  }
 ],
 "metadata": {
  "kernelspec": {
   "display_name": "Python 3",
   "language": "python",
   "name": "python3"
  },
  "language_info": {
   "codemirror_mode": {
    "name": "ipython",
    "version": 3
   },
   "file_extension": ".py",
   "mimetype": "text/x-python",
   "name": "python",
   "nbconvert_exporter": "python",
   "pygments_lexer": "ipython3",
   "version": "3.8.2"
  }
 },
 "nbformat": 4,
 "nbformat_minor": 4
}
