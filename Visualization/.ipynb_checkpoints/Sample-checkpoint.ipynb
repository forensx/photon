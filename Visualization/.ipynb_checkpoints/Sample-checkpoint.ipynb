{
 "cells": [
  {
   "cell_type": "code",
   "execution_count": 2,
   "metadata": {},
   "outputs": [],
   "source": [
    "import pandas as pd\n",
    "import numpy as np\n",
    "from sklearn.preprocessing import normalize\n",
    "from netCDF4 import Dataset\n",
    "import matplotlib.pyplot as plt\n",
    "import cartopy.crs as ccrs\n",
    "import h5py\n",
    "from PIL import Image\n",
    "import os\n",
    "import datetime as dt\n"
   ]
  },
  {
   "cell_type": "code",
   "execution_count": 9,
   "metadata": {},
   "outputs": [],
   "source": [
    "def split(str, num):\n",
    "    return [ str[start:start+num] for start in range(0, len(str), num) ]"
   ]
  },
  {
   "cell_type": "code",
   "execution_count": 15,
   "metadata": {},
   "outputs": [
    {
     "name": "stdout",
     "output_type": "stream",
     "text": [
      "05/16/2020 07:21:36\n",
      "05/16/2020 07:33:21\n",
      "05/17/2020 06:52:13\n",
      "05/17/2020 07:02:31\n",
      "05/18/2020 06:16:40\n",
      "05/18/2020 06:28:02\n",
      "05/19/2020 08:20:53\n",
      "05/19/2020 08:32:56\n",
      "05/20/2020 08:05:31\n",
      "05/20/2020 08:11:45\n",
      "05/21/2020 08:16:59\n",
      "05/21/2020 08:13:05\n",
      "05/22/2020 06:40:57\n",
      "05/22/2020 06:58:03\n",
      "05/23/2020 07:01:03\n",
      "05/23/2020 07:13:22\n",
      "05/24/2020 08:32:06\n",
      "05/24/2020 08:40:44\n",
      "05/25/2020 09:44:45\n",
      "05/25/2020 09:55:24\n",
      "05/26/2020 07:47:05\n",
      "05/26/2020 07:59:48\n",
      "05/27/2020 06:51:07\n",
      "05/27/2020 07:00:12\n",
      "05/28/2020 06:27:15\n",
      "05/28/2020 06:36:14\n",
      "05/29/2020 08:01:14\n",
      "05/29/2020 08:10:19\n"
     ]
    }
   ],
   "source": [
    "for inFile in os.listdir(\"./Data\"):\n",
    "    f = h5py.File(\"./Data/\" + inFile,\"r\")\n",
    "    outName = inFile.rsplit('.', 1)[0]                      # Parse out the file extension, keep file nameoutName\n",
    "    yeardoy = inFile.split('.')[1][1:]                                  # Split filename to retrieve acquisition date\n",
    "    date = dt.datetime.strptime(yeardoy, '%Y%j').strftime('%m/%d/%Y')    # Convert YYYYDDD to MM/DD/YYYY\n",
    "    time = outName[-6:]\n",
    "    time = split(time,2)\n",
    "    time = time[0] + \":\" + time[1] + \":\" + time[2]\n",
    "    timeStamp = date + \" \" + time\n",
    "    print(timeStamp)"
   ]
  },
  {
   "cell_type": "code",
   "execution_count": null,
   "metadata": {},
   "outputs": [],
   "source": [
    "f = h5py.File(\"VNP46A1.A2020149.h11v06.001.2020150062723.h5\", \"r\")\n",
    "list(f.keys())"
   ]
  },
  {
   "cell_type": "code",
   "execution_count": null,
   "metadata": {},
   "outputs": [],
   "source": [
    "m10 = f['HDFEOS'][\"GRIDS\"][\"VNP_Grid_DNB\"][\"Data Fields\"][\"Radiance_M10\"]\n",
    "m11 = f['HDFEOS'][\"GRIDS\"][\"VNP_Grid_DNB\"][\"Data Fields\"][\"Radiance_M11\"]\n",
    "DNB = f['HDFEOS'][\"GRIDS\"][\"VNP_Grid_DNB\"][\"Data Fields\"][\"DNB_At_Sensor_Radiance_500m\"]"
   ]
  },
  {
   "cell_type": "code",
   "execution_count": null,
   "metadata": {},
   "outputs": [],
   "source": [
    "DNB.shape"
   ]
  },
  {
   "cell_type": "code",
   "execution_count": null,
   "metadata": {},
   "outputs": [],
   "source": [
    "DNB.dtype"
   ]
  },
  {
   "cell_type": "code",
   "execution_count": null,
   "metadata": {},
   "outputs": [],
   "source": [
    "m10[0,0]"
   ]
  },
  {
   "cell_type": "code",
   "execution_count": null,
   "metadata": {},
   "outputs": [],
   "source": [
    "m11[0,0]"
   ]
  },
  {
   "cell_type": "code",
   "execution_count": null,
   "metadata": {},
   "outputs": [],
   "source": [
    "f['HDFEOS INFORMATION'].keys()"
   ]
  },
  {
   "cell_type": "code",
   "execution_count": null,
   "metadata": {},
   "outputs": [],
   "source": [
    "metadata = f['HDFEOS INFORMATION']['StructMetadata.0']"
   ]
  },
  {
   "cell_type": "code",
   "execution_count": null,
   "metadata": {},
   "outputs": [],
   "source": [
    "metadata = metadata.value.split()"
   ]
  },
  {
   "cell_type": "code",
   "execution_count": null,
   "metadata": {},
   "outputs": [],
   "source": [
    "fileMetadata = [m.decode('utf-8') for m in metadata]"
   ]
  },
  {
   "cell_type": "code",
   "execution_count": null,
   "metadata": {},
   "outputs": [],
   "source": [
    "ulc = [i for i in fileMetadata if 'UpperLeftPointMtrs' in i][0]    # Search file metadata for the upper left corner of the file\n",
    "ulcLon = float(ulc.split('=(')[-1].replace(')', '').split(',')[0]) # Parse metadata string for upper left corner lon value\n",
    "ulcLat = float(ulc.split('=(')[-1].replace(')', '').split(',')[1]) # Parse metadata string for upper left corner lat value"
   ]
  },
  {
   "cell_type": "code",
   "execution_count": null,
   "metadata": {},
   "outputs": [],
   "source": [
    "print(ulcLat,ulcLon)"
   ]
  },
  {
   "cell_type": "code",
   "execution_count": null,
   "metadata": {},
   "outputs": [],
   "source": [
    "mat = np.reshape(DNB,(2400,2400))"
   ]
  },
  {
   "cell_type": "code",
   "execution_count": null,
   "metadata": {},
   "outputs": [],
   "source": [
    "mat[mat => 255] = 0"
   ]
  },
  {
   "cell_type": "code",
   "execution_count": null,
   "metadata": {},
   "outputs": [],
   "source": [
    "mat.max()"
   ]
  },
  {
   "cell_type": "code",
   "execution_count": null,
   "metadata": {},
   "outputs": [],
   "source": [
    "np.where(mat == 131 )"
   ]
  },
  {
   "cell_type": "code",
   "execution_count": null,
   "metadata": {},
   "outputs": [],
   "source": [
    "mat[mat == -1] = mat.max()"
   ]
  },
  {
   "cell_type": "code",
   "execution_count": null,
   "metadata": {},
   "outputs": [],
   "source": [
    "mat_norm"
   ]
  },
  {
   "cell_type": "code",
   "execution_count": null,
   "metadata": {},
   "outputs": [],
   "source": [
    "mat_norm = (mat - mat.min()) / (mat.max() - mat.min())"
   ]
  },
  {
   "cell_type": "code",
   "execution_count": null,
   "metadata": {},
   "outputs": [],
   "source": [
    "img = Image.fromarray(np.uint8(mat) , 'L')"
   ]
  },
  {
   "cell_type": "code",
   "execution_count": null,
   "metadata": {},
   "outputs": [],
   "source": [
    "img.save(\"nice.jpg\",\"JPEG\")"
   ]
  },
  {
   "cell_type": "code",
   "execution_count": null,
   "metadata": {},
   "outputs": [],
   "source": [
    "array = np.linspace(0,1,256*256)\n",
    "\n",
    "# reshape to 2d\n",
    "mat = np.reshape(array,(256,256))\n",
    "\n",
    "# Creates PIL image\n",
    "img = Image.fromarray(np.uint8(mat * 255) , 'L')\n",
    "img.save(\"nice.jpg\",\"JPEG\")"
   ]
  }
 ],
 "metadata": {
  "kernelspec": {
   "display_name": "Python 3",
   "language": "python",
   "name": "python3"
  },
  "language_info": {
   "codemirror_mode": {
    "name": "ipython",
    "version": 3
   },
   "file_extension": ".py",
   "mimetype": "text/x-python",
   "name": "python",
   "nbconvert_exporter": "python",
   "pygments_lexer": "ipython3",
   "version": "3.8.2"
  }
 },
 "nbformat": 4,
 "nbformat_minor": 4
}
