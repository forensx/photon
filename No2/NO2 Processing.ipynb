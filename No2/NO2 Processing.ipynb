{
 "cells": [
  {
   "cell_type": "code",
   "execution_count": 1,
   "metadata": {},
   "outputs": [],
   "source": [
    "import netCDF4\n",
    "import pandas as pd\n",
    "import numpy as np\n",
    "from sklearn.preprocessing import normalize\n",
    "import datetime\n",
    "import os\n",
    "import xarray as xr"
   ]
  },
  {
   "cell_type": "code",
   "execution_count": 2,
   "metadata": {},
   "outputs": [],
   "source": [
    "nc_file = os.listdir(\"./data/\")[0]"
   ]
  },
  {
   "cell_type": "code",
   "execution_count": 3,
   "metadata": {},
   "outputs": [],
   "source": [
    "nc = netCDF4.Dataset(\"./data/\"+nc_file, mode='r')\n"
   ]
  },
  {
   "cell_type": "code",
   "execution_count": 4,
   "metadata": {},
   "outputs": [
    {
     "data": {
      "text/plain": [
       "dict_keys(['XDim', 'YDim', 'ColumnAmountNO2Trop'])"
      ]
     },
     "execution_count": 4,
     "metadata": {},
     "output_type": "execute_result"
    }
   ],
   "source": [
    "nc.variables.keys()"
   ]
  },
  {
   "cell_type": "code",
   "execution_count": 5,
   "metadata": {},
   "outputs": [
    {
     "data": {
      "text/plain": [
       "{'XDim': <class 'netCDF4._netCDF4.Variable'>\n",
       " float64 XDim(XDim)\n",
       "     standard_name: longitude\n",
       "     long_name: longitude\n",
       "     units: degrees_east\n",
       "     axis: X\n",
       " unlimited dimensions: \n",
       " current shape = (30,)\n",
       " filling off, 'YDim': <class 'netCDF4._netCDF4.Variable'>\n",
       " float64 YDim(YDim)\n",
       "     standard_name: latitude\n",
       "     long_name: latitude\n",
       "     units: degrees_north\n",
       "     axis: Y\n",
       " unlimited dimensions: \n",
       " current shape = (28,)\n",
       " filling off, 'ColumnAmountNO2Trop': <class 'netCDF4._netCDF4.Variable'>\n",
       " float32 ColumnAmountNO2Trop(YDim, XDim)\n",
       "     _FillValue: -1.2676506e+30\n",
       "     missing_value: -1.2676506e+30\n",
       "     Description: Field=ColumnAmountNO2Trop,StdField=ColumnAmountNO2TropStd,SolarZenithAngle=[0:85],VcdQualityFlags=~19,XTrackQualityFlags=~[1:254],TerrainReflectivity=[0:1000]\n",
       "     MissingValue: -1.2676506e+30\n",
       "     Offset: 0.0\n",
       "     ScaleFactor: 1.0\n",
       "     Title: NO2 tropospheric column density\n",
       "     Units: molec/cm2\n",
       "     fullnamepath: /HDFEOS/GRIDS/ColumnAmountNO2/Data Fields/ColumnAmountNO2Trop\n",
       " unlimited dimensions: \n",
       " current shape = (28, 30)\n",
       " filling off}"
      ]
     },
     "execution_count": 5,
     "metadata": {},
     "output_type": "execute_result"
    }
   ],
   "source": [
    "nc.variables"
   ]
  },
  {
   "cell_type": "code",
   "execution_count": 6,
   "metadata": {},
   "outputs": [],
   "source": [
    "lon = nc.variables[\"XDim\"][:]\n",
    "lat = nc.variables[\"YDim\"][:]\n",
    "NO2 = nc.variables[\"ColumnAmountNO2Trop\"][:]"
   ]
  },
  {
   "cell_type": "code",
   "execution_count": 7,
   "metadata": {},
   "outputs": [],
   "source": [
    "date_parse = nc_file[31-7:33-7]  + \"/\" + nc_file[33-7:35-7] +  \"/\" + nc_file[26-7:30-7]\n",
    "format_str = '%m/%d/%Y' # The format\n",
    "datetime_obj = datetime.datetime.strptime(date_parse, format_str)\n",
    "date = datetime_obj.date()"
   ]
  },
  {
   "cell_type": "code",
   "execution_count": 8,
   "metadata": {},
   "outputs": [
    {
     "data": {
      "text/plain": [
       "(30,)"
      ]
     },
     "execution_count": 8,
     "metadata": {},
     "output_type": "execute_result"
    }
   ],
   "source": [
    "lon.shape"
   ]
  },
  {
   "cell_type": "code",
   "execution_count": 9,
   "metadata": {},
   "outputs": [
    {
     "data": {
      "text/plain": [
       "(28,)"
      ]
     },
     "execution_count": 9,
     "metadata": {},
     "output_type": "execute_result"
    }
   ],
   "source": [
    "lat.shape"
   ]
  },
  {
   "cell_type": "code",
   "execution_count": 10,
   "metadata": {},
   "outputs": [
    {
     "data": {
      "text/plain": [
       "(28, 30)"
      ]
     },
     "execution_count": 10,
     "metadata": {},
     "output_type": "execute_result"
    }
   ],
   "source": [
    "NO2.shape"
   ]
  },
  {
   "cell_type": "code",
   "execution_count": 11,
   "metadata": {},
   "outputs": [],
   "source": [
    "nc = xr.open_dataset(\"./data/\"+nc_file)\n",
    "df = nc.ColumnAmountNO2Trop.to_dataframe()\n",
    "#.to_csv(nc_file+'.csv')\n"
   ]
  },
  {
   "cell_type": "code",
   "execution_count": 12,
   "metadata": {},
   "outputs": [
    {
     "data": {
      "text/html": [
       "<div>\n",
       "<style scoped>\n",
       "    .dataframe tbody tr th:only-of-type {\n",
       "        vertical-align: middle;\n",
       "    }\n",
       "\n",
       "    .dataframe tbody tr th {\n",
       "        vertical-align: top;\n",
       "    }\n",
       "\n",
       "    .dataframe thead th {\n",
       "        text-align: right;\n",
       "    }\n",
       "</style>\n",
       "<table border=\"1\" class=\"dataframe\">\n",
       "  <thead>\n",
       "    <tr style=\"text-align: right;\">\n",
       "      <th></th>\n",
       "      <th></th>\n",
       "      <th>ColumnAmountNO2Trop</th>\n",
       "    </tr>\n",
       "    <tr>\n",
       "      <th>YDim</th>\n",
       "      <th>XDim</th>\n",
       "      <th></th>\n",
       "    </tr>\n",
       "  </thead>\n",
       "  <tbody>\n",
       "    <tr>\n",
       "      <th rowspan=\"5\" valign=\"top\">36.125</th>\n",
       "      <th>-77.625</th>\n",
       "      <td>2.871103e+15</td>\n",
       "    </tr>\n",
       "    <tr>\n",
       "      <th>-77.375</th>\n",
       "      <td>2.815080e+15</td>\n",
       "    </tr>\n",
       "    <tr>\n",
       "      <th>-77.125</th>\n",
       "      <td>2.109011e+15</td>\n",
       "    </tr>\n",
       "    <tr>\n",
       "      <th>-76.875</th>\n",
       "      <td>1.934238e+15</td>\n",
       "    </tr>\n",
       "    <tr>\n",
       "      <th>-76.625</th>\n",
       "      <td>1.993001e+15</td>\n",
       "    </tr>\n",
       "  </tbody>\n",
       "</table>\n",
       "</div>"
      ],
      "text/plain": [
       "                ColumnAmountNO2Trop\n",
       "YDim   XDim                        \n",
       "36.125 -77.625         2.871103e+15\n",
       "       -77.375         2.815080e+15\n",
       "       -77.125         2.109011e+15\n",
       "       -76.875         1.934238e+15\n",
       "       -76.625         1.993001e+15"
      ]
     },
     "execution_count": 12,
     "metadata": {},
     "output_type": "execute_result"
    }
   ],
   "source": [
    "df.head()"
   ]
  },
  {
   "cell_type": "code",
   "execution_count": 13,
   "metadata": {},
   "outputs": [],
   "source": [
    "df = df.reset_index()"
   ]
  },
  {
   "cell_type": "code",
   "execution_count": 14,
   "metadata": {},
   "outputs": [],
   "source": [
    "df['Date'] = date"
   ]
  },
  {
   "cell_type": "code",
   "execution_count": 15,
   "metadata": {},
   "outputs": [],
   "source": [
    "df.index.name = 'id'"
   ]
  },
  {
   "cell_type": "code",
   "execution_count": 16,
   "metadata": {},
   "outputs": [],
   "source": [
    "df = df.rename(columns={'YDim': 'lat', 'XDim': 'lon'})"
   ]
  },
  {
   "cell_type": "code",
   "execution_count": 17,
   "metadata": {},
   "outputs": [
    {
     "data": {
      "text/html": [
       "<div>\n",
       "<style scoped>\n",
       "    .dataframe tbody tr th:only-of-type {\n",
       "        vertical-align: middle;\n",
       "    }\n",
       "\n",
       "    .dataframe tbody tr th {\n",
       "        vertical-align: top;\n",
       "    }\n",
       "\n",
       "    .dataframe thead th {\n",
       "        text-align: right;\n",
       "    }\n",
       "</style>\n",
       "<table border=\"1\" class=\"dataframe\">\n",
       "  <thead>\n",
       "    <tr style=\"text-align: right;\">\n",
       "      <th></th>\n",
       "      <th>lat</th>\n",
       "      <th>lon</th>\n",
       "      <th>ColumnAmountNO2Trop</th>\n",
       "      <th>Date</th>\n",
       "    </tr>\n",
       "    <tr>\n",
       "      <th>id</th>\n",
       "      <th></th>\n",
       "      <th></th>\n",
       "      <th></th>\n",
       "      <th></th>\n",
       "    </tr>\n",
       "  </thead>\n",
       "  <tbody>\n",
       "    <tr>\n",
       "      <th>0</th>\n",
       "      <td>36.125</td>\n",
       "      <td>-77.625</td>\n",
       "      <td>2.871103e+15</td>\n",
       "      <td>2016-11-10</td>\n",
       "    </tr>\n",
       "    <tr>\n",
       "      <th>1</th>\n",
       "      <td>36.125</td>\n",
       "      <td>-77.375</td>\n",
       "      <td>2.815080e+15</td>\n",
       "      <td>2016-11-10</td>\n",
       "    </tr>\n",
       "    <tr>\n",
       "      <th>2</th>\n",
       "      <td>36.125</td>\n",
       "      <td>-77.125</td>\n",
       "      <td>2.109011e+15</td>\n",
       "      <td>2016-11-10</td>\n",
       "    </tr>\n",
       "    <tr>\n",
       "      <th>3</th>\n",
       "      <td>36.125</td>\n",
       "      <td>-76.875</td>\n",
       "      <td>1.934238e+15</td>\n",
       "      <td>2016-11-10</td>\n",
       "    </tr>\n",
       "    <tr>\n",
       "      <th>4</th>\n",
       "      <td>36.125</td>\n",
       "      <td>-76.625</td>\n",
       "      <td>1.993001e+15</td>\n",
       "      <td>2016-11-10</td>\n",
       "    </tr>\n",
       "  </tbody>\n",
       "</table>\n",
       "</div>"
      ],
      "text/plain": [
       "       lat     lon  ColumnAmountNO2Trop        Date\n",
       "id                                                 \n",
       "0   36.125 -77.625         2.871103e+15  2016-11-10\n",
       "1   36.125 -77.375         2.815080e+15  2016-11-10\n",
       "2   36.125 -77.125         2.109011e+15  2016-11-10\n",
       "3   36.125 -76.875         1.934238e+15  2016-11-10\n",
       "4   36.125 -76.625         1.993001e+15  2016-11-10"
      ]
     },
     "execution_count": 17,
     "metadata": {},
     "output_type": "execute_result"
    }
   ],
   "source": [
    "df.head()"
   ]
  },
  {
   "cell_type": "code",
   "execution_count": 18,
   "metadata": {},
   "outputs": [
    {
     "data": {
      "text/plain": [
       "\"features = df.apply(\\n    lambda row: Feature(geometry=Point((float(row['YDim']), float(row['XDim'])))),\\n    axis=1).tolist()\\n\\n# all the other columns used as properties\\nproperties = df.drop(['YDim', 'XDim'], axis=1).to_dict('records')\\n\\n# whole geojson object\\nfeature_collection = FeatureCollection(features=features, properties=properties)\\n\""
      ]
     },
     "execution_count": 18,
     "metadata": {},
     "output_type": "execute_result"
    }
   ],
   "source": [
    "\"\"\"features = df.apply(\n",
    "    lambda row: Feature(geometry=Point((float(row['YDim']), float(row['XDim'])))),\n",
    "    axis=1).tolist()\n",
    "\n",
    "# all the other columns used as properties\n",
    "properties = df.drop(['YDim', 'XDim'], axis=1).to_dict('records')\n",
    "\n",
    "# whole geojson object\n",
    "feature_collection = FeatureCollection(features=features, properties=properties)\n",
    "\"\"\""
   ]
  },
  {
   "cell_type": "code",
   "execution_count": 19,
   "metadata": {},
   "outputs": [
    {
     "data": {
      "text/plain": [
       "'with open(\"Finished/\" + nc_file + \".json\", \\'w\\', encoding=\\'utf-8\\') as f:\\n    json.dump(feature_collection, f, ensure_ascii=False)\\n    '"
      ]
     },
     "execution_count": 19,
     "metadata": {},
     "output_type": "execute_result"
    }
   ],
   "source": [
    "\"\"\"with open(\"Finished/\" + nc_file + \".json\", 'w', encoding='utf-8') as f:\n",
    "    json.dump(feature_collection, f, ensure_ascii=False)\n",
    "    \"\"\""
   ]
  },
  {
   "cell_type": "code",
   "execution_count": 20,
   "metadata": {},
   "outputs": [],
   "source": [
    "comb = pd.DataFrame()\n",
    "format_str = '%m/%d/%Y' # The format\n",
    "count =0\n",
    "for inFile in os.listdir(\"./data/\"):\n",
    "    date_parse = inFile[31-7:33-7]  + \"/\" + inFile[33-7:35-7] +  \"/\" + inFile[26-7:30-7]\n",
    "    datetime_obj = datetime.datetime.strptime(date_parse, format_str)\n",
    "    date = datetime_obj.date()\n",
    "    nc = xr.open_dataset(\"./data/\"+inFile)\n",
    "    df = nc.ColumnAmountNO2Trop.to_dataframe()\n",
    "    df = df.reset_index()\n",
    "    df['Date'] = date\n",
    "    df = df.rename(columns={'YDim': 'lat', 'XDim': 'lon'})\n",
    "    comb = comb.append(df)\n",
    "    count = count + 1\n",
    "comb.index.name = 'id'\n",
    "comb = comb.reset_index()\n",
    "comb = comb.drop(\"id\", axis = 1)\n",
    "comb = comb.reset_index()\n",
    "comb.index.name = 'id'\n"
   ]
  },
  {
   "cell_type": "code",
   "execution_count": 23,
   "metadata": {},
   "outputs": [],
   "source": [
    "comb = comb.interpolate(\"cubic\")"
   ]
  },
  {
   "cell_type": "code",
   "execution_count": 25,
   "metadata": {},
   "outputs": [],
   "source": [
    "comb.to_csv(\"Finished/NO2_Combined.csv\")"
   ]
  },
  {
   "cell_type": "code",
   "execution_count": null,
   "metadata": {},
   "outputs": [],
   "source": [
    "comb.head()"
   ]
  },
  {
   "cell_type": "code",
   "execution_count": null,
   "metadata": {},
   "outputs": [],
   "source": []
  }
 ],
 "metadata": {
  "kernelspec": {
   "display_name": "Python 3",
   "language": "python",
   "name": "python3"
  },
  "language_info": {
   "codemirror_mode": {
    "name": "ipython",
    "version": 3
   },
   "file_extension": ".py",
   "mimetype": "text/x-python",
   "name": "python",
   "nbconvert_exporter": "python",
   "pygments_lexer": "ipython3",
   "version": "3.7.3"
  }
 },
 "nbformat": 4,
 "nbformat_minor": 4
}
