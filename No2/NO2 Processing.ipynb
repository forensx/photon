{
 "cells": [
  {
   "cell_type": "code",
   "execution_count": 1,
   "metadata": {},
   "outputs": [],
   "source": [
    "import netCDF4\n",
    "import pandas as pd\n",
    "import numpy as np\n",
    "from sklearn.preprocessing import normalize\n",
    "import datetime\n"
   ]
  },
  {
   "cell_type": "code",
   "execution_count": 2,
   "metadata": {},
   "outputs": [],
   "source": [
    "nc_file = \"OMI-Aura_L3-OMNO2d_2004m1001_v003-2019m1121t082956.he5.SUB.nc4\""
   ]
  },
  {
   "cell_type": "code",
   "execution_count": 3,
   "metadata": {},
   "outputs": [],
   "source": [
    "nc = netCDF4.Dataset(\"./data/\"+nc_file, mode='r')\n"
   ]
  },
  {
   "cell_type": "code",
   "execution_count": 4,
   "metadata": {},
   "outputs": [
    {
     "data": {
      "text/plain": [
       "dict_keys(['XDim', 'YDim', 'ColumnAmountNO2Trop'])"
      ]
     },
     "execution_count": 4,
     "metadata": {},
     "output_type": "execute_result"
    }
   ],
   "source": [
    "nc.variables.keys()"
   ]
  },
  {
   "cell_type": "code",
   "execution_count": 5,
   "metadata": {},
   "outputs": [
    {
     "data": {
      "text/plain": [
       "{'XDim': <class 'netCDF4._netCDF4.Variable'>\n",
       " float64 XDim(XDim)\n",
       "     standard_name: longitude\n",
       "     long_name: longitude\n",
       "     units: degrees_east\n",
       "     axis: X\n",
       " unlimited dimensions: \n",
       " current shape = (295,)\n",
       " filling off, 'YDim': <class 'netCDF4._netCDF4.Variable'>\n",
       " float64 YDim(YDim)\n",
       "     standard_name: latitude\n",
       "     long_name: latitude\n",
       "     units: degrees_north\n",
       "     axis: Y\n",
       " unlimited dimensions: \n",
       " current shape = (105,)\n",
       " filling off, 'ColumnAmountNO2Trop': <class 'netCDF4._netCDF4.Variable'>\n",
       " float32 ColumnAmountNO2Trop(YDim, XDim)\n",
       "     _FillValue: -1.2676506e+30\n",
       "     missing_value: -1.2676506e+30\n",
       "     Description: Field=ColumnAmountNO2Trop,StdField=ColumnAmountNO2TropStd,SolarZenithAngle=[0:85],VcdQualityFlags=~19,XTrackQualityFlags=~[1:254],TerrainReflectivity=[0:1000]\n",
       "     MissingValue: -1.2676506e+30\n",
       "     Offset: 0.0\n",
       "     ScaleFactor: 1.0\n",
       "     Title: NO2 tropospheric column density\n",
       "     Units: molec/cm2\n",
       "     fullnamepath: /HDFEOS/GRIDS/ColumnAmountNO2/Data Fields/ColumnAmountNO2Trop\n",
       " unlimited dimensions: \n",
       " current shape = (105, 295)\n",
       " filling off}"
      ]
     },
     "execution_count": 5,
     "metadata": {},
     "output_type": "execute_result"
    }
   ],
   "source": [
    "nc.variables"
   ]
  },
  {
   "cell_type": "code",
   "execution_count": 6,
   "metadata": {},
   "outputs": [],
   "source": [
    "lon = nc.variables[\"XDim\"][:]\n",
    "lat = nc.variables[\"YDim\"][:]\n",
    "NO2 = nc.variables[\"ColumnAmountNO2Trop\"][:]"
   ]
  },
  {
   "cell_type": "code",
   "execution_count": 7,
   "metadata": {},
   "outputs": [],
   "source": [
    "date_parse = nc_file[31-7:33-7]  + \"/\" + nc_file[33-7:35-7] +  \"/\" + nc_file[26-7:30-7]\n",
    "format_str = '%m/%d/%Y' # The format\n",
    "datetime_obj = datetime.datetime.strptime(date_parse, format_str)\n",
    "date = datetime_obj.date()"
   ]
  },
  {
   "cell_type": "code",
   "execution_count": 8,
   "metadata": {},
   "outputs": [
    {
     "data": {
      "text/plain": [
       "(295,)"
      ]
     },
     "execution_count": 8,
     "metadata": {},
     "output_type": "execute_result"
    }
   ],
   "source": [
    "lon.shape"
   ]
  },
  {
   "cell_type": "code",
   "execution_count": 9,
   "metadata": {},
   "outputs": [
    {
     "data": {
      "text/plain": [
       "(105,)"
      ]
     },
     "execution_count": 9,
     "metadata": {},
     "output_type": "execute_result"
    }
   ],
   "source": [
    "lat.shape"
   ]
  },
  {
   "cell_type": "code",
   "execution_count": 10,
   "metadata": {},
   "outputs": [
    {
     "data": {
      "text/plain": [
       "(105, 295)"
      ]
     },
     "execution_count": 10,
     "metadata": {},
     "output_type": "execute_result"
    }
   ],
   "source": [
    "NO2.shape"
   ]
  },
  {
   "cell_type": "code",
   "execution_count": 11,
   "metadata": {},
   "outputs": [],
   "source": [
    "import os\n",
    "import xarray as xr\n",
    "nc = xr.open_dataset(\"./data/\"+nc_file)\n",
    "df = nc.ColumnAmountNO2Trop.to_dataframe()\n",
    "#.to_csv(nc_file+'.csv')\n"
   ]
  },
  {
   "cell_type": "code",
   "execution_count": 12,
   "metadata": {},
   "outputs": [
    {
     "data": {
      "text/html": [
       "<div>\n",
       "<style scoped>\n",
       "    .dataframe tbody tr th:only-of-type {\n",
       "        vertical-align: middle;\n",
       "    }\n",
       "\n",
       "    .dataframe tbody tr th {\n",
       "        vertical-align: top;\n",
       "    }\n",
       "\n",
       "    .dataframe thead th {\n",
       "        text-align: right;\n",
       "    }\n",
       "</style>\n",
       "<table border=\"1\" class=\"dataframe\">\n",
       "  <thead>\n",
       "    <tr style=\"text-align: right;\">\n",
       "      <th></th>\n",
       "      <th></th>\n",
       "      <th>ColumnAmountNO2Trop</th>\n",
       "    </tr>\n",
       "    <tr>\n",
       "      <th>YDim</th>\n",
       "      <th>XDim</th>\n",
       "      <th></th>\n",
       "    </tr>\n",
       "  </thead>\n",
       "  <tbody>\n",
       "    <tr>\n",
       "      <th rowspan=\"5\" valign=\"top\">24.625</th>\n",
       "      <th>-132.375</th>\n",
       "      <td>7.397606e+14</td>\n",
       "    </tr>\n",
       "    <tr>\n",
       "      <th>-132.125</th>\n",
       "      <td>5.015970e+14</td>\n",
       "    </tr>\n",
       "    <tr>\n",
       "      <th>-131.875</th>\n",
       "      <td>6.355413e+14</td>\n",
       "    </tr>\n",
       "    <tr>\n",
       "      <th>-131.625</th>\n",
       "      <td>8.383936e+14</td>\n",
       "    </tr>\n",
       "    <tr>\n",
       "      <th>-131.375</th>\n",
       "      <td>6.277493e+14</td>\n",
       "    </tr>\n",
       "  </tbody>\n",
       "</table>\n",
       "</div>"
      ],
      "text/plain": [
       "                 ColumnAmountNO2Trop\n",
       "YDim   XDim                         \n",
       "24.625 -132.375         7.397606e+14\n",
       "       -132.125         5.015970e+14\n",
       "       -131.875         6.355413e+14\n",
       "       -131.625         8.383936e+14\n",
       "       -131.375         6.277493e+14"
      ]
     },
     "execution_count": 12,
     "metadata": {},
     "output_type": "execute_result"
    }
   ],
   "source": [
    "df.head()"
   ]
  },
  {
   "cell_type": "code",
   "execution_count": 13,
   "metadata": {},
   "outputs": [],
   "source": [
    "import json\n",
    "import pandas as pd\n",
    "from geojson import Feature, FeatureCollection, Point"
   ]
  },
  {
   "cell_type": "code",
   "execution_count": 14,
   "metadata": {},
   "outputs": [],
   "source": [
    "df = df.reset_index()"
   ]
  },
  {
   "cell_type": "code",
   "execution_count": 15,
   "metadata": {},
   "outputs": [],
   "source": [
    "df['Date'] = date"
   ]
  },
  {
   "cell_type": "code",
   "execution_count": 16,
   "metadata": {},
   "outputs": [],
   "source": [
    "df.index.name = 'id'"
   ]
  },
  {
   "cell_type": "code",
   "execution_count": 19,
   "metadata": {},
   "outputs": [],
   "source": [
    "df = df.rename(columns={'YDim': 'lat', 'XDim': 'lon'})"
   ]
  },
  {
   "cell_type": "code",
   "execution_count": 20,
   "metadata": {},
   "outputs": [
    {
     "data": {
      "text/html": [
       "<div>\n",
       "<style scoped>\n",
       "    .dataframe tbody tr th:only-of-type {\n",
       "        vertical-align: middle;\n",
       "    }\n",
       "\n",
       "    .dataframe tbody tr th {\n",
       "        vertical-align: top;\n",
       "    }\n",
       "\n",
       "    .dataframe thead th {\n",
       "        text-align: right;\n",
       "    }\n",
       "</style>\n",
       "<table border=\"1\" class=\"dataframe\">\n",
       "  <thead>\n",
       "    <tr style=\"text-align: right;\">\n",
       "      <th></th>\n",
       "      <th>lat</th>\n",
       "      <th>lon</th>\n",
       "      <th>ColumnAmountNO2Trop</th>\n",
       "      <th>Date</th>\n",
       "    </tr>\n",
       "    <tr>\n",
       "      <th>id</th>\n",
       "      <th></th>\n",
       "      <th></th>\n",
       "      <th></th>\n",
       "      <th></th>\n",
       "    </tr>\n",
       "  </thead>\n",
       "  <tbody>\n",
       "    <tr>\n",
       "      <th>0</th>\n",
       "      <td>24.625</td>\n",
       "      <td>-132.375</td>\n",
       "      <td>7.397606e+14</td>\n",
       "      <td>2004-10-01</td>\n",
       "    </tr>\n",
       "    <tr>\n",
       "      <th>1</th>\n",
       "      <td>24.625</td>\n",
       "      <td>-132.125</td>\n",
       "      <td>5.015970e+14</td>\n",
       "      <td>2004-10-01</td>\n",
       "    </tr>\n",
       "    <tr>\n",
       "      <th>2</th>\n",
       "      <td>24.625</td>\n",
       "      <td>-131.875</td>\n",
       "      <td>6.355413e+14</td>\n",
       "      <td>2004-10-01</td>\n",
       "    </tr>\n",
       "    <tr>\n",
       "      <th>3</th>\n",
       "      <td>24.625</td>\n",
       "      <td>-131.625</td>\n",
       "      <td>8.383936e+14</td>\n",
       "      <td>2004-10-01</td>\n",
       "    </tr>\n",
       "    <tr>\n",
       "      <th>4</th>\n",
       "      <td>24.625</td>\n",
       "      <td>-131.375</td>\n",
       "      <td>6.277493e+14</td>\n",
       "      <td>2004-10-01</td>\n",
       "    </tr>\n",
       "  </tbody>\n",
       "</table>\n",
       "</div>"
      ],
      "text/plain": [
       "       lat      lon  ColumnAmountNO2Trop        Date\n",
       "id                                                  \n",
       "0   24.625 -132.375         7.397606e+14  2004-10-01\n",
       "1   24.625 -132.125         5.015970e+14  2004-10-01\n",
       "2   24.625 -131.875         6.355413e+14  2004-10-01\n",
       "3   24.625 -131.625         8.383936e+14  2004-10-01\n",
       "4   24.625 -131.375         6.277493e+14  2004-10-01"
      ]
     },
     "execution_count": 20,
     "metadata": {},
     "output_type": "execute_result"
    }
   ],
   "source": [
    "df.head()"
   ]
  },
  {
   "cell_type": "code",
   "execution_count": null,
   "metadata": {},
   "outputs": [],
   "source": [
    "\"\"\"features = df.apply(\n",
    "    lambda row: Feature(geometry=Point((float(row['YDim']), float(row['XDim'])))),\n",
    "    axis=1).tolist()\n",
    "\n",
    "# all the other columns used as properties\n",
    "properties = df.drop(['YDim', 'XDim'], axis=1).to_dict('records')\n",
    "\n",
    "# whole geojson object\n",
    "feature_collection = FeatureCollection(features=features, properties=properties)\n",
    "\"\"\""
   ]
  },
  {
   "cell_type": "code",
   "execution_count": null,
   "metadata": {},
   "outputs": [],
   "source": [
    "\"\"\"with open(\"Finished/\" + nc_file + \".json\", 'w', encoding='utf-8') as f:\n",
    "    json.dump(feature_collection, f, ensure_ascii=False)\n",
    "    \"\"\""
   ]
  },
  {
   "cell_type": "code",
   "execution_count": 21,
   "metadata": {},
   "outputs": [],
   "source": [
    "df.to_csv(\"Finished/\" + nc_file + \".csv\")"
   ]
  },
  {
   "cell_type": "code",
   "execution_count": null,
   "metadata": {},
   "outputs": [],
   "source": []
  }
 ],
 "metadata": {
  "kernelspec": {
   "display_name": "Python 3",
   "language": "python",
   "name": "python3"
  },
  "language_info": {
   "codemirror_mode": {
    "name": "ipython",
    "version": 3
   },
   "file_extension": ".py",
   "mimetype": "text/x-python",
   "name": "python",
   "nbconvert_exporter": "python",
   "pygments_lexer": "ipython3",
   "version": "3.7.3"
  }
 },
 "nbformat": 4,
 "nbformat_minor": 4
}
